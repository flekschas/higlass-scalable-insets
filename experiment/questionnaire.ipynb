{
 "cells": [
  {
   "cell_type": "markdown",
   "metadata": {},
   "source": [
    "# Plot results from the questionnaire"
   ]
  },
  {
   "cell_type": "code",
   "execution_count": 1,
   "metadata": {},
   "outputs": [],
   "source": [
    "%load_ext autoreload\n",
    "%autoreload 2\n",
    "%matplotlib inline"
   ]
  },
  {
   "cell_type": "code",
   "execution_count": 5,
   "metadata": {},
   "outputs": [],
   "source": [
    "import matplotlib.pyplot as plt\n",
    "import numpy as np\n",
    "import pandas as pd\n",
    "import seaborn as sns"
   ]
  },
  {
   "cell_type": "code",
   "execution_count": 11,
   "metadata": {},
   "outputs": [],
   "source": [
    "votes_user_study_1 = [\n",
    "    [3, 3, 3, 3, 3, 4, 4, 4, 4, 4, 4, 4, 4, 4, 4, 5, 5, 5],\n",
    "    [2, 3, 3, 3, 3, 4, 4, 4, 4, 4, 4, 4, 4, 4, 4, 5, 5, 5],\n",
    "    [2, 3, 3, 4, 4, 5, 5, 5, 5, 5, 5, 5, 5, 5, 5, 5, 5],\n",
    "]\n",
    "votes_user_study_2 = [\n",
    "    [3, 4, 4, 4, 5, 5],\n",
    "    [4, 4, 5, 5, 5, 5],\n",
    "    [2, 4, 4, 4, 4, 5],\n",
    "    [2, 3, 3, 4, 4, 5],\n",
    "    [1, 1, 1, 2, 3, 3],\n",
    "    [1, 2, 4],\n",
    "    [2, 3, 4],\n",
    "    [4, 4, 5, 5, 5, 5],\n",
    "    [4, 5, 5, 5, 5, 5],\n",
    "]"
   ]
  },
  {
   "cell_type": "code",
   "execution_count": 124,
   "metadata": {},
   "outputs": [],
   "source": [
    "def create_violin_plot(data, xtick_labels, name, show_scatter=False):\n",
    "    ngroup = len(data)\n",
    "    \n",
    "    plt.figure(figsize=(ngroup * 0.8,1.25))\n",
    "    \n",
    "    plt.axhline(y=5, color='#aaaaaa', linestyle='dotted', linewidth=1, zorder=-1)\n",
    "    plt.axhline(y=4, color='#aaaaaa', linestyle='dotted', linewidth=1, zorder=-1)\n",
    "    plt.axhline(y=3, color='#aaaaaa', linestyle='dotted', linewidth=1, zorder=-1)\n",
    "    plt.axhline(y=2, color='#aaaaaa', linestyle='dotted', linewidth=1, zorder=-1)\n",
    "    \n",
    "    parts = plt.violinplot(\n",
    "        data,\n",
    "        showmeans=True,\n",
    "        showmedians=False,\n",
    "        showextrema=False,\n",
    "    )\n",
    "    \n",
    "    parts['cmeans'].set_color('#000000')\n",
    "    \n",
    "    for pc in parts['bodies']:\n",
    "        pc.set_facecolor('#aaaaaa')\n",
    "        pc.set_alpha(1)\n",
    "\n",
    "    if show_scatter:\n",
    "        for i in range(ngroup):\n",
    "            y = data[i]\n",
    "            x = np.random.normal(1+i, 0.04, size=len(y))\n",
    "            plt.plot(x, y, 'r.', alpha=0.2)\n",
    "\n",
    "    plt.gca().spines['top'].set_visible(False)\n",
    "    plt.gca().spines['right'].set_visible(False)\n",
    "    plt.gca().spines['left'].set_visible(False)\n",
    "    plt.gca().spines['bottom'].set_color('k')\n",
    "    plt.ylim(1, 5)\n",
    "    plt.margins(0.025)\n",
    "    plt.xticks(range(1, ngroup + 1), xtick_labels)\n",
    "    plt.yticks(range(1, 6))\n",
    "    plt.savefig(\"{}.svg\".format(name))"
   ]
  },
  {
   "cell_type": "code",
   "execution_count": 127,
   "metadata": {},
   "outputs": [
    {
     "data": {
      "image/png": "[encoded data removed]",
      "text/plain": [
       "<Figure size 172.8x90 with 1 Axes>"
      ]
     },
     "metadata": {
      "needs_background": "light"
     },
     "output_type": "display_data"
    }
   ],
   "source": [
    "create_violin_plot(votes_user_study_1, ['Q1', 'Q2', 'Q3'], 'user-study-1-survey-results')"
   ]
  },
  {
   "cell_type": "code",
   "execution_count": 128,
   "metadata": {},
   "outputs": [
    {
     "data": {
      "image/png": "[encoded data removed]",
      "text/plain": [
       "<Figure size 518.4x90 with 1 Axes>"
      ]
     },
     "metadata": {
      "needs_background": "light"
     },
     "output_type": "display_data"
    }
   ],
   "source": [
    "create_violin_plot(votes_user_study_2, ['Q1', 'Q2', 'Q3', 'Q5', 'Q6', 'Q7A', 'Q7B', 'Q9', 'Q10'], 'user-study-2-survey-results')"
   ]
  },
  {
   "cell_type": "code",
   "execution_count": null,
   "metadata": {},
   "outputs": [],
   "source": []
  }
 ],
 "metadata": {
  "kernelspec": {
   "display_name": "Python 3",
   "language": "python",
   "name": "python3"
  },
  "language_info": {
   "codemirror_mode": {
    "name": "ipython",
    "version": 3
   },
   "file_extension": ".py",
   "mimetype": "text/x-python",
   "name": "python",
   "nbconvert_exporter": "python",
   "pygments_lexer": "ipython3",
   "version": "3.7.3"
  }
 },
 "nbformat": 4,
 "nbformat_minor": 2
}
